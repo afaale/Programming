{
  "nbformat": 4,
  "nbformat_minor": 0,
  "metadata": {
    "colab": {
      "provenance": [],
      "gpuType": "T4",
      "authorship_tag": "ABX9TyPswJMR0Ni+g3LdLJ6eqLao",
      "include_colab_link": true
    },
    "kernelspec": {
      "name": "python3",
      "display_name": "Python 3"
    },
    "language_info": {
      "name": "python"
    },
    "accelerator": "GPU"
  },
  "cells": [
    {
      "cell_type": "markdown",
      "metadata": {
        "id": "view-in-github",
        "colab_type": "text"
      },
      "source": [
        "<a href=\"https://colab.research.google.com/github/afaale/Programming/blob/main/Algorithms.ipynb\" target=\"_parent\"><img src=\"https://colab.research.google.com/assets/colab-badge.svg\" alt=\"Open In Colab\"/></a>"
      ]
    },
    {
      "cell_type": "markdown",
      "source": [
        "# Algorithms"
      ],
      "metadata": {
        "id": "LXiuZsNQtoJM"
      }
    },
    {
      "cell_type": "code",
      "source": [
        "import random"
      ],
      "metadata": {
        "id": "MGB6JtUBty83"
      },
      "execution_count": 21,
      "outputs": []
    },
    {
      "cell_type": "code",
      "source": [
        "a = 10000\n",
        "b = 10000"
      ],
      "metadata": {
        "id": "y_6Xloe-0jU4"
      },
      "execution_count": 22,
      "outputs": []
    },
    {
      "cell_type": "code",
      "source": [
        "# INSERTION SORT\n",
        "\n",
        "nums = list(range(a))\n",
        "random.shuffle(nums)\n",
        "print(nums[:100])\n",
        "\n",
        "n = len(nums)\n",
        "\n",
        "for i in range(1, n):\n",
        "    j = i\n",
        "    while nums[j] < nums[j - 1] and j > 0:\n",
        "        nums[j], nums[j - 1] = nums[j - 1], nums[j]\n",
        "        j -= 1\n",
        "print(nums[:100])\n",
        "\n",
        "# END OF INSERTION SORT"
      ],
      "metadata": {
        "colab": {
          "base_uri": "https://localhost:8080/"
        },
        "id": "ThCQhnAJt4uz",
        "outputId": "39f2aa3e-3666-4df8-eb69-0494e9d0a807"
      },
      "execution_count": 23,
      "outputs": [
        {
          "output_type": "stream",
          "name": "stdout",
          "text": [
            "[0, 4318, 6123, 2574, 7499, 5968, 2811, 733, 6715, 3348, 9431, 5381, 2883, 954, 3408, 7251, 5420, 1724, 81, 874, 8987, 5667, 121, 2888, 9819, 1424, 7949, 2548, 9926, 2562, 4320, 3812, 9104, 2676, 8326, 2093, 9332, 975, 6650, 6338, 7277, 2939, 4334, 9817, 9058, 799, 5615, 4174, 4590, 7994, 8175, 3308, 4736, 3411, 2645, 2705, 973, 9495, 5170, 4349, 6024, 6182, 435, 1442, 7565, 2564, 4223, 6788, 8245, 1505, 1594, 4952, 7705, 1571, 6750, 1241, 1737, 8757, 6856, 2622, 5213, 6596, 4250, 4234, 4090, 9380, 8165, 8882, 2200, 14, 3629, 2851, 9029, 3494, 2716, 6166, 9282, 1310, 8132, 6712]\n",
            "[0, 1, 2, 3, 4, 5, 6, 7, 8, 9, 10, 11, 12, 13, 14, 15, 16, 17, 18, 19, 20, 21, 22, 23, 24, 25, 26, 27, 28, 29, 30, 31, 32, 33, 34, 35, 36, 37, 38, 39, 40, 41, 42, 43, 44, 45, 46, 47, 48, 49, 50, 51, 52, 53, 54, 55, 56, 57, 58, 59, 60, 61, 62, 63, 64, 65, 66, 67, 68, 69, 70, 71, 72, 73, 74, 75, 76, 77, 78, 79, 80, 81, 82, 83, 84, 85, 86, 87, 88, 89, 90, 91, 92, 93, 94, 95, 96, 97, 98, 99]\n"
          ]
        }
      ]
    },
    {
      "cell_type": "code",
      "source": [
        "# MERGE SORT\n",
        "\n",
        "arr = list(range(b))\n",
        "random.shuffle(arr)\n",
        "print(arr[:100])\n",
        "\n",
        "\n",
        "def merge(left, right):\n",
        "    res = []\n",
        "    while len(left) > 0 and len(right) > 0:\n",
        "        if left[0] <= right[0]:\n",
        "            res.append(left[0])\n",
        "            left.pop(0)\n",
        "        elif right[0] < left[0]:\n",
        "            res.append(right[0])\n",
        "            right.pop(0)\n",
        "    if left:\n",
        "        res += left\n",
        "    elif right:\n",
        "        res += right\n",
        "\n",
        "    return res\n",
        "\n",
        "def merge_sort(arr):\n",
        "    if len(arr) <= 1:\n",
        "        return arr\n",
        "\n",
        "    mid = len(arr) // 2\n",
        "    left, right = arr[:mid], arr[mid:]\n",
        "    left = merge_sort(left)\n",
        "    right = merge_sort(right)\n",
        "    return merge(left, right)\n",
        "\n",
        "print(merge_sort(arr)[:100])\n",
        "\n",
        "\n",
        "# END OF MERGESORT"
      ],
      "metadata": {
        "colab": {
          "base_uri": "https://localhost:8080/"
        },
        "id": "0UtPySGxt9Q5",
        "outputId": "1efef53d-ea89-446c-ec79-bf619442ed70"
      },
      "execution_count": 24,
      "outputs": [
        {
          "output_type": "stream",
          "name": "stdout",
          "text": [
            "[7115, 9333, 7952, 139, 8385, 3570, 3222, 3937, 1722, 1594, 6632, 266, 4296, 1630, 4680, 9478, 1570, 8296, 6744, 765, 9486, 9882, 14, 3814, 5682, 8722, 7326, 8565, 5501, 3961, 4860, 4084, 7197, 9193, 654, 9049, 7502, 9682, 7628, 7281, 1220, 7112, 5456, 345, 6521, 1214, 3567, 2871, 3447, 2723, 1152, 1522, 7647, 4116, 404, 3552, 1315, 9679, 6883, 2779, 9390, 5066, 9627, 3538, 3987, 2275, 3388, 4139, 3518, 8908, 4791, 6749, 1049, 6822, 9615, 69, 8418, 5517, 9034, 8957, 2419, 8745, 883, 9949, 6797, 155, 390, 5133, 4919, 2405, 8242, 2730, 255, 1331, 5478, 6385, 5144, 2331, 4013, 9775]\n",
            "[0, 1, 2, 3, 4, 5, 6, 7, 8, 9, 10, 11, 12, 13, 14, 15, 16, 17, 18, 19, 20, 21, 22, 23, 24, 25, 26, 27, 28, 29, 30, 31, 32, 33, 34, 35, 36, 37, 38, 39, 40, 41, 42, 43, 44, 45, 46, 47, 48, 49, 50, 51, 52, 53, 54, 55, 56, 57, 58, 59, 60, 61, 62, 63, 64, 65, 66, 67, 68, 69, 70, 71, 72, 73, 74, 75, 76, 77, 78, 79, 80, 81, 82, 83, 84, 85, 86, 87, 88, 89, 90, 91, 92, 93, 94, 95, 96, 97, 98, 99]\n"
          ]
        }
      ]
    },
    {
      "cell_type": "code",
      "source": [
        "# SELECTION SORT\n",
        "\n",
        "arr = list(range(a))\n",
        "random.shuffle(arr)\n",
        "print(arr[:100])\n",
        "\n",
        "def selection_sort(arr):\n",
        "    for i in range(len(arr)):\n",
        "        min = i\n",
        "        for j in range(i+1, len(arr)):\n",
        "            if arr[j] < arr[min]:\n",
        "                min = j\n",
        "        arr[i], arr[min] = arr[min], arr[i]\n",
        "\n",
        "    return arr\n",
        "\n",
        "print(selection_sort(arr)[:100])\n",
        "\n",
        "# END OF SELECTION SORT"
      ],
      "metadata": {
        "colab": {
          "base_uri": "https://localhost:8080/"
        },
        "id": "uLhA-K5luA5j",
        "outputId": "ee1ed076-318f-4706-c658-d9b9f2e8a80a"
      },
      "execution_count": 25,
      "outputs": [
        {
          "output_type": "stream",
          "name": "stdout",
          "text": [
            "[6952, 294, 4605, 4991, 9461, 530, 948, 188, 7572, 6131, 8520, 5189, 3820, 8915, 6036, 4118, 7205, 5493, 7982, 7379, 1647, 2091, 8006, 8924, 2843, 7727, 4408, 8098, 8406, 7217, 2673, 5041, 516, 1459, 7687, 1283, 3869, 3285, 2257, 3178, 877, 9731, 5802, 4540, 8792, 2420, 2441, 3638, 5253, 3093, 5098, 8661, 372, 2802, 645, 6413, 158, 2069, 5137, 2249, 8684, 9844, 8645, 491, 6374, 9650, 3330, 1133, 7734, 6938, 1971, 8135, 2493, 517, 4243, 8798, 945, 8316, 2496, 9867, 5447, 9080, 9218, 9334, 739, 1680, 7487, 3860, 8674, 3318, 9887, 8364, 1916, 4647, 7527, 7655, 4554, 6405, 1143, 5815]\n",
            "[0, 1, 2, 3, 4, 5, 6, 7, 8, 9, 10, 11, 12, 13, 14, 15, 16, 17, 18, 19, 20, 21, 22, 23, 24, 25, 26, 27, 28, 29, 30, 31, 32, 33, 34, 35, 36, 37, 38, 39, 40, 41, 42, 43, 44, 45, 46, 47, 48, 49, 50, 51, 52, 53, 54, 55, 56, 57, 58, 59, 60, 61, 62, 63, 64, 65, 66, 67, 68, 69, 70, 71, 72, 73, 74, 75, 76, 77, 78, 79, 80, 81, 82, 83, 84, 85, 86, 87, 88, 89, 90, 91, 92, 93, 94, 95, 96, 97, 98, 99]\n"
          ]
        }
      ]
    },
    {
      "cell_type": "code",
      "source": [
        "# BUBBLE SORT\n",
        "\n",
        "arr = list(range(a))\n",
        "random.shuffle(arr)\n",
        "n = len(arr)\n",
        "print(arr[:100])\n",
        "\n",
        "for i in range(1,n):\n",
        "    for j in range(1,n):\n",
        "        if arr[j] < arr[j-1]:\n",
        "            arr[j], arr[j-1] = arr[j-1], arr[j]\n",
        "\n",
        "print(arr[:100])\n",
        "\n",
        "#END OF BUBBLE SORT"
      ],
      "metadata": {
        "colab": {
          "base_uri": "https://localhost:8080/"
        },
        "id": "3V2Hj4j2uFyv",
        "outputId": "43e2d6ac-6e62-4e82-f19e-356a4fe76798"
      },
      "execution_count": 26,
      "outputs": [
        {
          "output_type": "stream",
          "name": "stdout",
          "text": [
            "[3870, 1171, 7140, 9195, 6127, 6208, 6022, 225, 2147, 8163, 8403, 4816, 8413, 7396, 2611, 4581, 6975, 1011, 1545, 6824, 5745, 1330, 4680, 1226, 8701, 5213, 7011, 4844, 8021, 3502, 5453, 2193, 1085, 9651, 9703, 7748, 3403, 2120, 5284, 7688, 4170, 9534, 1391, 8394, 2630, 6301, 4869, 7201, 1911, 4852, 8650, 7855, 3, 2254, 1652, 2646, 6261, 224, 8090, 7553, 3843, 2048, 7832, 9474, 1287, 7509, 8467, 6488, 6489, 1719, 4618, 2255, 2947, 4515, 6945, 626, 3622, 7923, 8260, 9878, 147, 8890, 4465, 3125, 2071, 5301, 7117, 5055, 9485, 4143, 210, 692, 7680, 6095, 1336, 8918, 5725, 7173, 975, 1145]\n",
            "[0, 1, 2, 3, 4, 5, 6, 7, 8, 9, 10, 11, 12, 13, 14, 15, 16, 17, 18, 19, 20, 21, 22, 23, 24, 25, 26, 27, 28, 29, 30, 31, 32, 33, 34, 35, 36, 37, 38, 39, 40, 41, 42, 43, 44, 45, 46, 47, 48, 49, 50, 51, 52, 53, 54, 55, 56, 57, 58, 59, 60, 61, 62, 63, 64, 65, 66, 67, 68, 69, 70, 71, 72, 73, 74, 75, 76, 77, 78, 79, 80, 81, 82, 83, 84, 85, 86, 87, 88, 89, 90, 91, 92, 93, 94, 95, 96, 97, 98, 99]\n"
          ]
        }
      ]
    },
    {
      "cell_type": "code",
      "source": [
        "#QUICKSORT\n",
        "\n",
        "array = list(range(b))\n",
        "random.shuffle(array)\n",
        "print(array[:100])\n",
        "\n",
        "def partition(arr, left, right):\n",
        "    pivot = arr[right]\n",
        "    temp = left - 1\n",
        "    for i in range(left, right):\n",
        "        if arr[i] < pivot:\n",
        "            temp += 1\n",
        "            arr[i], arr[temp] = arr[temp], arr[i]\n",
        "    arr[temp + 1], arr[right] = arr[right], arr[temp + 1]\n",
        "    return temp + 1\n",
        "\n",
        "def quick_sort(arr, left, right):\n",
        "    if left < right:\n",
        "\n",
        "        pivot = partition(arr, left, right)\n",
        "        quick_sort(arr, left, pivot-1)\n",
        "        quick_sort(arr, pivot+1, right)\n",
        "\n",
        "    return arr\n",
        "\n",
        "\n",
        "quick_sort(array, 0, len(array) - 1)\n",
        "print(array[:100])\n",
        "\n",
        "#END OF QUICKSORT"
      ],
      "metadata": {
        "colab": {
          "base_uri": "https://localhost:8080/"
        },
        "id": "kndgwQU5uNGj",
        "outputId": "bb46f693-ad3b-4025-dbb3-e65d9a943c28"
      },
      "execution_count": 27,
      "outputs": [
        {
          "output_type": "stream",
          "name": "stdout",
          "text": [
            "[7542, 6906, 3995, 5989, 5967, 2683, 4096, 3739, 2921, 1504, 7586, 4185, 2533, 1552, 5948, 763, 3841, 7955, 776, 8712, 1735, 3807, 8559, 6395, 9556, 7452, 6786, 8341, 4588, 844, 7033, 4526, 3909, 4121, 6272, 2080, 4463, 4009, 4750, 7876, 5670, 1032, 9194, 4944, 556, 3116, 7176, 7442, 5753, 6496, 3292, 7289, 5054, 7556, 3559, 7180, 7890, 6962, 1837, 6995, 8981, 8124, 6630, 1056, 4311, 4140, 6718, 8401, 7105, 5768, 400, 3213, 6410, 2491, 6859, 2438, 9890, 1828, 361, 8013, 6347, 1627, 1889, 1879, 4442, 5849, 599, 9186, 3014, 1498, 1110, 6012, 3584, 2499, 3411, 9646, 753, 9623, 4654, 1633]\n",
            "[0, 1, 2, 3, 4, 5, 6, 7, 8, 9, 10, 11, 12, 13, 14, 15, 16, 17, 18, 19, 20, 21, 22, 23, 24, 25, 26, 27, 28, 29, 30, 31, 32, 33, 34, 35, 36, 37, 38, 39, 40, 41, 42, 43, 44, 45, 46, 47, 48, 49, 50, 51, 52, 53, 54, 55, 56, 57, 58, 59, 60, 61, 62, 63, 64, 65, 66, 67, 68, 69, 70, 71, 72, 73, 74, 75, 76, 77, 78, 79, 80, 81, 82, 83, 84, 85, 86, 87, 88, 89, 90, 91, 92, 93, 94, 95, 96, 97, 98, 99]\n"
          ]
        }
      ]
    },
    {
      "cell_type": "code",
      "source": [
        "#COUNT SORT for 0 <= digits < 10\n",
        "\n",
        "def count_sort(arr):\n",
        "    size = len(arr)\n",
        "    count = [0] * 10\n",
        "    final = [0] * size\n",
        "\n",
        "    for i in range(size):\n",
        "        count[arr[i]] += 1\n",
        "\n",
        "    for i in range(1,10):\n",
        "        count[i] += count[i-1]\n",
        "\n",
        "    i = size - 1\n",
        "    while i >= 0:\n",
        "        final[count[arr[i]]-1] = arr[i]\n",
        "        count[arr[i]] -= 1\n",
        "        i -= 1\n",
        "\n",
        "    for i in range(size):\n",
        "        arr[i] = final[i]\n",
        "\n",
        "\n",
        "\n",
        "test = list(range(0, 10))*a\n",
        "random.shuffle(test)\n",
        "print(test[:100])\n",
        "\n",
        "count_sort(test)\n",
        "print(test[:100])\n",
        "\n",
        "#END OF COUNT"
      ],
      "metadata": {
        "colab": {
          "base_uri": "https://localhost:8080/"
        },
        "id": "jbBdO7QbuN_q",
        "outputId": "1a823395-e8f5-4d7d-f821-fa1fda25c17e"
      },
      "execution_count": 28,
      "outputs": [
        {
          "output_type": "stream",
          "name": "stdout",
          "text": [
            "[2, 8, 7, 7, 1, 4, 4, 0, 3, 8, 3, 5, 9, 5, 1, 6, 8, 9, 4, 7, 1, 1, 0, 7, 2, 5, 9, 5, 8, 5, 0, 5, 7, 7, 6, 9, 1, 6, 2, 7, 0, 0, 2, 5, 0, 8, 1, 3, 9, 8, 0, 5, 6, 0, 2, 2, 2, 3, 5, 6, 9, 0, 3, 9, 9, 3, 3, 2, 4, 2, 8, 1, 6, 8, 0, 6, 5, 1, 1, 4, 4, 2, 3, 5, 1, 7, 5, 3, 8, 9, 9, 4, 4, 3, 3, 4, 2, 3, 3, 9]\n",
            "[0, 0, 0, 0, 0, 0, 0, 0, 0, 0, 0, 0, 0, 0, 0, 0, 0, 0, 0, 0, 0, 0, 0, 0, 0, 0, 0, 0, 0, 0, 0, 0, 0, 0, 0, 0, 0, 0, 0, 0, 0, 0, 0, 0, 0, 0, 0, 0, 0, 0, 0, 0, 0, 0, 0, 0, 0, 0, 0, 0, 0, 0, 0, 0, 0, 0, 0, 0, 0, 0, 0, 0, 0, 0, 0, 0, 0, 0, 0, 0, 0, 0, 0, 0, 0, 0, 0, 0, 0, 0, 0, 0, 0, 0, 0, 0, 0, 0, 0, 0]\n"
          ]
        }
      ]
    },
    {
      "cell_type": "code",
      "source": [
        "# RADIX SORT\n",
        "\n",
        "def count_sort(arr, radix):\n",
        "    size = len(arr)\n",
        "    count = [0] * 10\n",
        "    output = [0] * size\n",
        "\n",
        "    for i in range(size):\n",
        "        index = arr[i] // radix\n",
        "        count[index % 10] += 1\n",
        "\n",
        "    for i in range(1, 10):\n",
        "        count[i] += count[i-1]\n",
        "\n",
        "    i = size-1\n",
        "    while i >= 0:\n",
        "        index = arr[i] // radix\n",
        "        output[count[index % 10] - 1] = arr[i]\n",
        "        count[index % 10] -= 1\n",
        "        i -= 1\n",
        "\n",
        "    for i in range(size):\n",
        "        arr[i] = output[i]\n",
        "\n",
        "\n",
        "def radix_sort(arr):\n",
        "    maxim = max(arr)\n",
        "    radix = 1\n",
        "    while maxim // radix > 0:\n",
        "        count_sort(arr, radix)\n",
        "        radix *= 10\n",
        "\n",
        "\n",
        "data = [random.randint(1,b) for i in range(b)]\n",
        "print(data[:100])\n",
        "radix_sort(data)\n",
        "\n",
        "print(data[:100])\n",
        "\n",
        "#END OF RADIX SORT"
      ],
      "metadata": {
        "colab": {
          "base_uri": "https://localhost:8080/"
        },
        "id": "fN0nCLHJuZHf",
        "outputId": "fbecb7de-21dd-4474-b83d-5765717fccd7"
      },
      "execution_count": 29,
      "outputs": [
        {
          "output_type": "stream",
          "name": "stdout",
          "text": [
            "[6788, 9546, 1452, 436, 9828, 9296, 6595, 1553, 7000, 9912, 6414, 7845, 8266, 2220, 2270, 2111, 3594, 8131, 6712, 5883, 8081, 5088, 3454, 1123, 4479, 2770, 8347, 181, 5854, 3009, 9591, 6214, 8547, 1432, 7555, 1833, 4356, 8953, 8051, 4438, 3891, 8089, 6557, 4904, 8042, 7651, 1004, 661, 5751, 3807, 3828, 6718, 3949, 6705, 3400, 5291, 4676, 1620, 2125, 446, 4696, 45, 6502, 1756, 9571, 567, 6452, 38, 6068, 6212, 3520, 6198, 9110, 1177, 4868, 8804, 9522, 6353, 6282, 6439, 4664, 1355, 2266, 4562, 3144, 9844, 8177, 5562, 2043, 1773, 3246, 7901, 6034, 5555, 8553, 2864, 7964, 9224, 7753, 2318]\n",
            "[3, 6, 7, 7, 9, 18, 18, 18, 20, 21, 21, 22, 23, 24, 24, 27, 27, 29, 30, 31, 32, 33, 33, 34, 34, 35, 35, 36, 36, 36, 37, 37, 38, 38, 39, 39, 39, 41, 41, 43, 43, 44, 45, 45, 46, 50, 50, 51, 51, 52, 55, 61, 61, 62, 62, 62, 63, 64, 66, 66, 67, 68, 68, 69, 70, 71, 72, 72, 72, 74, 75, 78, 79, 79, 81, 81, 82, 83, 83, 83, 83, 84, 86, 88, 88, 89, 89, 90, 91, 92, 92, 93, 94, 94, 94, 95, 95, 95, 95, 96]\n"
          ]
        }
      ]
    }
  ]
}