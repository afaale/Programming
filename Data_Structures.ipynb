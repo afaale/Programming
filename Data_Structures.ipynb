{
  "nbformat": 4,
  "nbformat_minor": 0,
  "metadata": {
    "colab": {
      "provenance": [],
      "authorship_tag": "ABX9TyPNK2arva4j86p2SCHqvDi+",
      "include_colab_link": true
    },
    "kernelspec": {
      "name": "python3",
      "display_name": "Python 3"
    },
    "language_info": {
      "name": "python"
    }
  },
  "cells": [
    {
      "cell_type": "markdown",
      "metadata": {
        "id": "view-in-github",
        "colab_type": "text"
      },
      "source": [
        "<a href=\"https://colab.research.google.com/github/afaale/Programming/blob/main/Data_Structures.ipynb\" target=\"_parent\"><img src=\"https://colab.research.google.com/assets/colab-badge.svg\" alt=\"Open In Colab\"/></a>"
      ]
    },
    {
      "cell_type": "markdown",
      "source": [
        "# Data Structures"
      ],
      "metadata": {
        "id": "QiLcv0ScsuSR"
      }
    },
    {
      "cell_type": "markdown",
      "source": [
        "# Linked List"
      ],
      "metadata": {
        "id": "srCZXXQzq3uZ"
      }
    },
    {
      "cell_type": "code",
      "execution_count": 2,
      "metadata": {
        "colab": {
          "base_uri": "https://localhost:8080/"
        },
        "id": "vusjSL1sqsJx",
        "outputId": "ed6f56d8-1fb9-448d-d6ef-7ede018a8313"
      },
      "outputs": [
        {
          "output_type": "stream",
          "name": "stdout",
          "text": [
            "person\n",
            "person\n",
            "person2.5\n",
            "person\n",
            "person\n",
            "1\n"
          ]
        }
      ],
      "source": [
        "class Node:\n",
        "    def __init__(self, val=None):\n",
        "        self.val = val\n",
        "        self.next = None\n",
        "\n",
        "class Linked_List:\n",
        "    def __init__(self):\n",
        "        self.head = None\n",
        "\n",
        "    def iter(self):\n",
        "        printval = self.head\n",
        "        while printval:\n",
        "            print(printval.val)\n",
        "            printval = printval.next\n",
        "\n",
        "    def insert_first(self, newval):\n",
        "        newval = Node(newval)\n",
        "        newval.next = self.head\n",
        "        self.head = newval\n",
        "\n",
        "    def insert_last(self, newval):\n",
        "        newval = Node(newval)\n",
        "        pointer = self.head\n",
        "        while pointer.next:\n",
        "            pointer = pointer.next\n",
        "        pointer.next = newval\n",
        "\n",
        "    def insert_at(self, newval, index):\n",
        "        newval = Node(newval)\n",
        "        pointer = self.head\n",
        "        for i in range(index):\n",
        "            pointer = pointer.next\n",
        "        temp = pointer.next\n",
        "        pointer.next = newval\n",
        "        pointer.next.next = temp\n",
        "\n",
        "    def delete_at(self, index):\n",
        "        pointer = self.head\n",
        "        for i in range(index-1):\n",
        "            pointer = pointer.next\n",
        "        pointer.next = pointer.next.next\n",
        "\n",
        "    def get_index(self, node):\n",
        "        if not node.next:\n",
        "            return 0\n",
        "        return 1 + self.get_index(node.next)\n",
        "\n",
        "\n",
        "\n",
        "\n",
        "list1 = Linked_List()\n",
        "list1.head = Node('person')\n",
        "e2 = Node('person')\n",
        "e3 = Node('person')\n",
        "\n",
        "list1.head.next = e2\n",
        "e2.next = e3\n",
        "#list1.insert_first('nigger0')\n",
        "list1.insert_last('person')\n",
        "list1.insert_at('person2.5', 1)\n",
        "list1.iter()\n",
        "print(list1.get_index(e3))\n"
      ]
    },
    {
      "cell_type": "markdown",
      "source": [
        "# Hash Table"
      ],
      "metadata": {
        "id": "F89Wzjw1rA2L"
      }
    },
    {
      "cell_type": "code",
      "source": [
        "#HASH TABLE SIMPLE\n",
        "\n",
        "\n",
        "class Node:\n",
        "    def __init__(self, key, value):\n",
        "        self.key = key\n",
        "        self.value = value\n",
        "        self.next = None\n",
        "\n",
        "class HashTable:\n",
        "    def __init__(self, length):\n",
        "        self.length = length\n",
        "        self.table = {i: None for i in range(length + 1)}\n",
        "\n",
        "    def hash_func(self, value):\n",
        "        return (11*value+4) % self.length\n",
        "\n",
        "    def insert(self, value):\n",
        "        index = self.hash_func(value)\n",
        "        if not self.table[index]:\n",
        "            self.table[index] = Node(index, value)\n",
        "            return\n",
        "        node = self.table[index]\n",
        "        while node.next:\n",
        "            node = node.next\n",
        "        node.next = Node(index, value)\n",
        "\n",
        "    def find(self, value):\n",
        "        index = self.hash_func(value)\n",
        "        node = self.table[index]\n",
        "        while node:\n",
        "            if node.value == value:\n",
        "                return f\"{node.value} found, index = {index}\"\n",
        "            node = node.next\n",
        "\n",
        "        return f\"{value} not found\"\n",
        "\n",
        "\n",
        "A = [67, 13, 49, 24, 40, 33, 58]\n",
        "\n",
        "hashTable = HashTable(9)\n",
        "\n",
        "while A:\n",
        "    hashTable.insert(A.pop())\n",
        "\n",
        "\n",
        "A = [67, 13, 49, 24, 40, 33, 58]\n",
        "for i in A:\n",
        "    print(hashTable.find(i))\n",
        "\n",
        "B = list(range(0,12,2))\n",
        "B.append(13)\n",
        "for i in B:\n",
        "    print(hashTable.find(i))\n",
        "\n",
        "#END OF SIMPLE HASH TABLE"
      ],
      "metadata": {
        "colab": {
          "base_uri": "https://localhost:8080/"
        },
        "id": "zX6FYWJbqw28",
        "outputId": "76d5892e-6cb7-4c1d-c64f-61ac65851d1c"
      },
      "execution_count": 14,
      "outputs": [
        {
          "output_type": "stream",
          "name": "stdout",
          "text": [
            "67 found, index = 3\n",
            "13 found, index = 3\n",
            "49 found, index = 3\n",
            "24 found, index = 7\n",
            "40 found, index = 3\n",
            "33 found, index = 7\n",
            "58 found, index = 3\n",
            "0 not found\n",
            "2 not found\n",
            "4 not found\n",
            "6 not found\n",
            "8 not found\n",
            "10 not found\n",
            "13 found, index = 3\n"
          ]
        }
      ]
    }
  ]
}